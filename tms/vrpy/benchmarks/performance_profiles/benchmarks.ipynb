{
 "cells": [
  {
   "cell_type": "markdown",
   "metadata": {},
   "source": [
    "# Benchmarks"
   ]
  },
  {
   "cell_type": "markdown",
   "metadata": {},
   "source": [
    "In this notebook, we analyse and compare performances of the *VRPy* library with other libraries, namely *ortools* and *py-ga-VRPTW*."
   ]
  },
  {
   "cell_type": "markdown",
   "metadata": {},
   "source": [
    "## Data"
   ]
  },
  {
   "cell_type": "markdown",
   "metadata": {},
   "source": [
    "Computational results are summarized in csv files that are merged into a unique dataframe:"
   ]
  },
  {
   "cell_type": "code",
   "execution_count": 1,
   "metadata": {},
   "outputs": [
    {
     "data": {
      "text/html": [
       "<div>\n",
       "<style scoped>\n",
       "    .dataframe tbody tr th:only-of-type {\n",
       "        vertical-align: middle;\n",
       "    }\n",
       "\n",
       "    .dataframe tbody tr th {\n",
       "        vertical-align: top;\n",
       "    }\n",
       "\n",
       "    .dataframe thead th {\n",
       "        text-align: right;\n",
       "    }\n",
       "</style>\n",
       "<table border=\"1\" class=\"dataframe\">\n",
       "  <thead>\n",
       "    <tr style=\"text-align: right;\">\n",
       "      <th></th>\n",
       "      <th>instance</th>\n",
       "      <th>nodes</th>\n",
       "      <th>algorithm</th>\n",
       "      <th>res</th>\n",
       "      <th>best known solution</th>\n",
       "      <th>gap</th>\n",
       "      <th>time (s)</th>\n",
       "      <th>vrp</th>\n",
       "      <th>time limit (s)</th>\n",
       "    </tr>\n",
       "  </thead>\n",
       "  <tbody>\n",
       "    <tr>\n",
       "      <th>0</th>\n",
       "      <td>A-n32-k5.vrp</td>\n",
       "      <td>32</td>\n",
       "      <td>Clarke&amp;Wright</td>\n",
       "      <td>975</td>\n",
       "      <td>784</td>\n",
       "      <td>24.362245</td>\n",
       "      <td>0.013963</td>\n",
       "      <td>cvrp</td>\n",
       "      <td>5</td>\n",
       "    </tr>\n",
       "    <tr>\n",
       "      <th>1</th>\n",
       "      <td>A-n33-k5.vrp</td>\n",
       "      <td>33</td>\n",
       "      <td>Clarke&amp;Wright</td>\n",
       "      <td>696</td>\n",
       "      <td>661</td>\n",
       "      <td>5.295008</td>\n",
       "      <td>0.008976</td>\n",
       "      <td>cvrp</td>\n",
       "      <td>5</td>\n",
       "    </tr>\n",
       "    <tr>\n",
       "      <th>2</th>\n",
       "      <td>A-n33-k6.vrp</td>\n",
       "      <td>33</td>\n",
       "      <td>Clarke&amp;Wright</td>\n",
       "      <td>794</td>\n",
       "      <td>742</td>\n",
       "      <td>7.008086</td>\n",
       "      <td>0.010970</td>\n",
       "      <td>cvrp</td>\n",
       "      <td>5</td>\n",
       "    </tr>\n",
       "    <tr>\n",
       "      <th>3</th>\n",
       "      <td>A-n34-k5.vrp</td>\n",
       "      <td>34</td>\n",
       "      <td>Clarke&amp;Wright</td>\n",
       "      <td>789</td>\n",
       "      <td>778</td>\n",
       "      <td>1.413882</td>\n",
       "      <td>0.013964</td>\n",
       "      <td>cvrp</td>\n",
       "      <td>5</td>\n",
       "    </tr>\n",
       "    <tr>\n",
       "      <th>4</th>\n",
       "      <td>A-n36-k5.vrp</td>\n",
       "      <td>36</td>\n",
       "      <td>Clarke&amp;Wright</td>\n",
       "      <td>823</td>\n",
       "      <td>799</td>\n",
       "      <td>3.003755</td>\n",
       "      <td>0.014960</td>\n",
       "      <td>cvrp</td>\n",
       "      <td>5</td>\n",
       "    </tr>\n",
       "  </tbody>\n",
       "</table>\n",
       "</div>"
      ],
      "text/plain": [
       "       instance  nodes      algorithm  res  best known solution        gap  \\\n",
       "0  A-n32-k5.vrp     32  Clarke&Wright  975                  784  24.362245   \n",
       "1  A-n33-k5.vrp     33  Clarke&Wright  696                  661   5.295008   \n",
       "2  A-n33-k6.vrp     33  Clarke&Wright  794                  742   7.008086   \n",
       "3  A-n34-k5.vrp     34  Clarke&Wright  789                  778   1.413882   \n",
       "4  A-n36-k5.vrp     36  Clarke&Wright  823                  799   3.003755   \n",
       "\n",
       "   time (s)   vrp  time limit (s)  \n",
       "0  0.013963  cvrp               5  \n",
       "1  0.008976  cvrp               5  \n",
       "2  0.010970  cvrp               5  \n",
       "3  0.013964  cvrp               5  \n",
       "4  0.014960  cvrp               5  "
      ]
     },
     "execution_count": 1,
     "metadata": {},
     "output_type": "execute_result"
    }
   ],
   "source": [
    "from pandas import read_csv, concat\n",
    "from glob import glob\n",
    "from numpy import float64\n",
    "import matplotlib.pyplot as plt\n",
    "\n",
    "# read csv files and merge\n",
    "df = concat((read_csv(f) for f in glob(\"*.csv\")))\n",
    "df.head()"
   ]
  },
  {
   "cell_type": "markdown",
   "metadata": {},
   "source": [
    "## Performances profiles"
   ]
  },
  {
   "cell_type": "markdown",
   "metadata": {},
   "source": [
    "Performance profiles are a practical way to have a global overview of the algorithms' performances. On the *x* axis, we have the relative gap (%), and on the *y* axis, the percentage of data sets solved within the gap.\n",
    "So for example, at the intersection with the *y* axis is the percentage of data sets solved optimally. \n",
    "\n",
    "At a glance, the more the curve is in the upper left corner, the better the algorithm."
   ]
  },
  {
   "cell_type": "code",
   "execution_count": 2,
   "metadata": {},
   "outputs": [],
   "source": [
    "# x values\n",
    "relative_gap = [gap for gap in range(150)]\n",
    "# y values\n",
    "within_gap = {}\n",
    "for alg in set(df[\"algorithm\"]):\n",
    "    within_gap[alg] = []\n",
    "    for gap in relative_gap:\n",
    "        count=0\n",
    "        for line in df.itertuples():\n",
    "            if line[6]!=\"None\":\n",
    "                if line[3] == alg and float64(line[6]).item() <= gap:\n",
    "                    count+=1\n",
    "        within_gap[alg].append(100*count/len(set(df[\"instance\"])))"
   ]
  },
  {
   "cell_type": "code",
   "execution_count": 3,
   "metadata": {},
   "outputs": [
    {
     "data": {
      "image/png": "[encoded data removed]",
      "text/plain": [
       "<Figure size 432x288 with 1 Axes>"
      ]
     },
     "metadata": {
      "needs_background": "light"
     },
     "output_type": "display_data"
    }
   ],
   "source": [
    "%matplotlib inline\n",
    "\n",
    "fig = plt.figure()\n",
    "ax = plt.subplot(111)\n",
    "for alg in set(df[\"algorithm\"]):\n",
    "    ax.plot(relative_gap, within_gap[alg], label=alg)\n",
    "ax.legend()\n",
    "plt.show()"
   ]
  }
 ],
 "metadata": {
  "kernelspec": {
   "display_name": "Python 3",
   "language": "python",
   "name": "python3"
  },
  "language_info": {
   "codemirror_mode": {
    "name": "ipython",
    "version": 3
   },
   "file_extension": ".py",
   "mimetype": "text/x-python",
   "name": "python",
   "nbconvert_exporter": "python",
   "pygments_lexer": "ipython3",
   "version": "3.7.6"
  }
 },
 "nbformat": 4,
 "nbformat_minor": 4
}
